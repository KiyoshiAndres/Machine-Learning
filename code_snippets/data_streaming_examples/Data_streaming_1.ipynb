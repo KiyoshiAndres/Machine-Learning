{
 "cells": [
  {
   "cell_type": "code",
   "execution_count": 1,
   "id": "3937830c",
   "metadata": {},
   "outputs": [],
   "source": [
    "import numpy as np"
   ]
  },
  {
   "cell_type": "code",
   "execution_count": 29,
   "id": "0eb67944",
   "metadata": {},
   "outputs": [],
   "source": [
    "def my_generator(my_array):\n",
    "    i = 0\n",
    "    while True:\n",
    "        yield my_array[i:i+2, :]\n",
    "        i += 1"
   ]
  },
  {
   "cell_type": "code",
   "execution_count": 30,
   "id": "5165b6be",
   "metadata": {},
   "outputs": [],
   "source": [
    "test_array = np.array([\n",
    "    [10.0, 2.0], [15, 6.0], [3.2, -1.5], [-3, -2]\n",
    "],\n",
    "    np.float32\n",
    ")"
   ]
  },
  {
   "cell_type": "code",
   "execution_count": 31,
   "id": "60725eb0",
   "metadata": {},
   "outputs": [],
   "source": [
    "output = my_generator(test_array)"
   ]
  },
  {
   "cell_type": "code",
   "execution_count": 32,
   "id": "4a7ce73b",
   "metadata": {},
   "outputs": [
    {
     "data": {
      "text/plain": [
       "array([[10.,  2.],\n",
       "       [15.,  6.]], dtype=float32)"
      ]
     },
     "execution_count": 32,
     "metadata": {},
     "output_type": "execute_result"
    }
   ],
   "source": [
    "next(output)"
   ]
  },
  {
   "cell_type": "markdown",
   "id": "03a32a27",
   "metadata": {},
   "source": [
    "The difference between yield and return is that return ends the function, while yield continues it, allowing the i to be remembered."
   ]
  },
  {
   "cell_type": "code",
   "execution_count": 23,
   "id": "5ad54abf",
   "metadata": {},
   "outputs": [
    {
     "name": "stdout",
     "output_type": "stream",
     "text": [
      "[2, 3, 4, 5]\n",
      "[2, 3]\n"
     ]
    }
   ],
   "source": [
    "list_1 = [2,3,4,5]\n",
    "print(list_1[:])\n",
    "print(list_1[0:2])"
   ]
  }
 ],
 "metadata": {
  "kernelspec": {
   "display_name": "Python 3 (ipykernel)",
   "language": "python",
   "name": "python3"
  },
  "language_info": {
   "codemirror_mode": {
    "name": "ipython",
    "version": 3
   },
   "file_extension": ".py",
   "mimetype": "text/x-python",
   "name": "python",
   "nbconvert_exporter": "python",
   "pygments_lexer": "ipython3",
   "version": "3.8.12"
  }
 },
 "nbformat": 4,
 "nbformat_minor": 5
}
