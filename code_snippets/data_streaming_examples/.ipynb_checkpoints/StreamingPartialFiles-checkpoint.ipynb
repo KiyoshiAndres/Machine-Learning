{
 "cells": [
  {
   "cell_type": "code",
   "execution_count": 3,
   "id": "f6129f40",
   "metadata": {},
   "outputs": [],
   "source": [
    "import tensorflow as tf\n",
    "\n",
    "base_pattern = \"/Users/kiyoshitakeuchi/Desktop/Machine Learning/Oreily\"\n",
    "file_pattern = \"owid-covid-data-part*\"\n",
    "files = tf.io.gfile.glob(base_pattern + \"/\" + file_pattern)"
   ]
  },
  {
   "cell_type": "code",
   "execution_count": 4,
   "id": "b0d82188",
   "metadata": {},
   "outputs": [],
   "source": [
    "csv_dataset = tf.data.experimental.make_csv_dataset(files,\n",
    "                                                    header = True,\n",
    "                                                    batch_size = 5,\n",
    "                                                    label_name = \"new_deaths\",\n",
    "                                                    num_epochs = 1,\n",
    "                                                    ignore_errors = True\n",
    "                                                   )"
   ]
  },
  {
   "cell_type": "markdown",
   "id": "b9e4cfc6",
   "metadata": {},
   "source": [
    "Number of epochs is the number of times the whole data set is streamed."
   ]
  },
  {
   "cell_type": "code",
   "execution_count": 5,
   "id": "ec116a36",
   "metadata": {},
   "outputs": [
    {
     "name": "stderr",
     "output_type": "stream",
     "text": [
      "2022-06-07 16:18:09.040022: W tensorflow/core/platform/profile_utils/cpu_utils.cc:128] Failed to get CPU frequency: 0 Hz\n",
      "2022-06-07 16:18:19.081541: I tensorflow/core/kernels/data/shuffle_dataset_op.cc:390] Filling up shuffle buffer (this may take a while): 4762 of 10000\n",
      "2022-06-07 16:18:29.084366: I tensorflow/core/kernels/data/shuffle_dataset_op.cc:390] Filling up shuffle buffer (this may take a while): 5127 of 10000\n",
      "2022-06-07 16:18:39.064502: I tensorflow/core/kernels/data/shuffle_dataset_op.cc:390] Filling up shuffle buffer (this may take a while): 5677 of 10000\n",
      "2022-06-07 16:18:49.122433: I tensorflow/core/kernels/data/shuffle_dataset_op.cc:390] Filling up shuffle buffer (this may take a while): 5933 of 10000\n",
      "2022-06-07 16:18:59.064028: I tensorflow/core/kernels/data/shuffle_dataset_op.cc:390] Filling up shuffle buffer (this may take a while): 6202 of 10000\n",
      "2022-06-07 16:19:09.081436: I tensorflow/core/kernels/data/shuffle_dataset_op.cc:390] Filling up shuffle buffer (this may take a while): 6445 of 10000\n",
      "2022-06-07 16:19:19.072022: I tensorflow/core/kernels/data/shuffle_dataset_op.cc:390] Filling up shuffle buffer (this may take a while): 6757 of 10000\n",
      "2022-06-07 16:19:29.072808: I tensorflow/core/kernels/data/shuffle_dataset_op.cc:390] Filling up shuffle buffer (this may take a while): 7039 of 10000\n",
      "2022-06-07 16:19:39.073239: I tensorflow/core/kernels/data/shuffle_dataset_op.cc:390] Filling up shuffle buffer (this may take a while): 7384 of 10000\n",
      "2022-06-07 16:19:49.063642: I tensorflow/core/kernels/data/shuffle_dataset_op.cc:390] Filling up shuffle buffer (this may take a while): 7730 of 10000\n",
      "2022-06-07 16:19:59.084412: I tensorflow/core/kernels/data/shuffle_dataset_op.cc:390] Filling up shuffle buffer (this may take a while): 8028 of 10000\n",
      "2022-06-07 16:20:09.063079: I tensorflow/core/kernels/data/shuffle_dataset_op.cc:390] Filling up shuffle buffer (this may take a while): 8245 of 10000\n",
      "2022-06-07 16:20:19.099902: I tensorflow/core/kernels/data/shuffle_dataset_op.cc:390] Filling up shuffle buffer (this may take a while): 8424 of 10000\n",
      "2022-06-07 16:20:29.102581: I tensorflow/core/kernels/data/shuffle_dataset_op.cc:390] Filling up shuffle buffer (this may take a while): 8769 of 10000\n",
      "2022-06-07 16:20:39.088210: I tensorflow/core/kernels/data/shuffle_dataset_op.cc:390] Filling up shuffle buffer (this may take a while): 9041 of 10000\n",
      "2022-06-07 16:20:49.107650: I tensorflow/core/kernels/data/shuffle_dataset_op.cc:390] Filling up shuffle buffer (this may take a while): 9300 of 10000\n",
      "2022-06-07 16:20:59.068951: I tensorflow/core/kernels/data/shuffle_dataset_op.cc:390] Filling up shuffle buffer (this may take a while): 9467 of 10000\n",
      "2022-06-07 16:21:09.064326: I tensorflow/core/kernels/data/shuffle_dataset_op.cc:390] Filling up shuffle buffer (this may take a while): 9842 of 10000\n",
      "2022-06-07 16:21:12.310564: I tensorflow/core/kernels/data/shuffle_dataset_op.cc:415] Shuffle buffer filled.\n"
     ]
    },
    {
     "name": "stdout",
     "output_type": "stream",
     "text": [
      "'Target': [0. 6. 0. 2. 7.]\n",
      "'Features:'\n",
      " 'iso_code'          : [b'QAT' b'ARE' b'MWI' b'ARE' b'VEN']\n",
      " 'continent'         : [b'Asia' b'Asia' b'Africa' b'Asia' b'South America']\n",
      " 'location'          : [b'Qatar' b'United Arab Emirates' b'Malawi' b'United Arab Emirates'\n",
      " b'Venezuela']\n",
      " 'date'              : [b'2020-12-04' b'2020-04-27' b'2021-10-23' b'2020-07-05' b'2020-08-17']\n",
      " 'total_cases'       : [139643.  10839.  61757.  51540.  34802.]\n",
      " 'new_cases'         : [ 166.  490.   10.  683. 1047.]\n",
      " 'new_cases_smoothed': [ 199.     510.571    6.429  534.714 1143.143]\n",
      " 'total_deaths'      : [ 239.   82. 2296.  323.  288.]\n",
      " 'new_deaths_smoothed': [0.286 5.571 0.571 1.429 8.429]\n",
      " 'total_cases_per_million': [47651.203  1084.867  3143.221  5158.6    1212.404]\n",
      " 'new_cases_per_million': [56.645 49.044  0.509 68.361 36.475]\n",
      " 'new_cases_smoothed_per_million': [67.906 51.103  0.327 53.519 39.824]\n",
      " 'total_deaths_per_million': [ 81.555   8.207 116.859  32.329  10.033]\n",
      " 'new_deaths_per_million': [0.    0.601 0.    0.2   0.244]\n",
      " 'new_deaths_smoothed_per_million': [0.097 0.558 0.029 0.143 0.294]\n",
      " 'reproduction_rate' : [0.88 1.18 0.78 1.16 1.1 ]\n",
      " 'icu_patients'      : [b'' b'' b'' b'' b'']\n",
      " 'icu_patients_per_million': [b'' b'' b'' b'' b'']\n",
      " 'hosp_patients'     : [b'' b'' b'' b'' b'']\n",
      " 'hosp_patients_per_million': [b'' b'' b'' b'' b'']\n",
      " 'weekly_icu_admissions': [b'' b'' b'' b'' b'']\n",
      " 'weekly_icu_admissions_per_million': [b'' b'' b'' b'' b'']\n",
      " 'weekly_hosp_admissions': [b'' b'' b'' b'' b'']\n",
      " 'weekly_hosp_admissions_per_million': [b'' b'' b'' b'' b'']\n",
      " 'total_tests'       : [b'' b'1054671.0' b'' b'3838994.0' b'']\n",
      " 'new_tests'         : [b'' b'26195.0' b'' b'44192.0' b'']\n",
      " 'total_tests_per_thousand': [b'' b'105.561' b'' b'384.242' b'']\n",
      " 'new_tests_per_thousand': [b'' b'2.622' b'' b'4.423' b'']\n",
      " 'new_tests_smoothed': [b'' b'24038.0' b'1138.0' b'52056.0' b'']\n",
      " 'new_tests_smoothed_per_thousand': [b'' b'2.406' b'0.058' b'5.21' b'']\n",
      " 'positive_rate'     : [b'' b'0.0212' b'0.0056' b'0.0103' b'']\n",
      " 'tests_per_case'    : [b'' b'47.1' b'177.0' b'97.4' b'']\n",
      " 'tests_units'       : [b'' b'tests performed' b'tests performed' b'tests performed' b'']\n",
      " 'total_vaccinations': [b'' b'' b'1183633.0' b'' b'']\n",
      " 'people_vaccinated' : [b'' b'' b'926939.0' b'' b'']\n",
      " 'people_fully_vaccinated': [b'' b'' b'533726.0' b'' b'']\n",
      " 'total_boosters'    : [b'' b'' b'' b'' b'']\n",
      " 'new_vaccinations'  : [b'' b'' b'5524.0' b'' b'']\n",
      " 'new_vaccinations_smoothed': [b'' b'' b'5459.0' b'' b'']\n",
      " 'total_vaccinations_per_hundred': [b'' b'' b'6.02' b'' b'']\n",
      " 'people_vaccinated_per_hundred': [b'' b'' b'4.72' b'' b'']\n",
      " 'people_fully_vaccinated_per_hundred': [b'' b'' b'2.72' b'' b'']\n",
      " 'total_boosters_per_hundred': [b'' b'' b'' b'' b'']\n",
      " 'new_vaccinations_smoothed_per_million': [b'' b'' b'278.0' b'' b'']\n",
      " 'new_people_vaccinated_smoothed': [b'' b'' b'4871.0' b'' b'']\n",
      " 'new_people_vaccinated_smoothed_per_hundred': [b'' b'' b'0.025' b'' b'']\n",
      " 'stringency_index'  : [64.81 87.04 24.07 56.48 86.11]\n",
      " 'population'        : [ 2930524.  9991083. 19647680.  9991083. 28704948.]\n",
      " 'population_density': [227.322 112.442 197.519 112.442  36.253]\n",
      " 'median_age'        : [31.9 34.  18.1 34.  29. ]\n",
      " 'aged_65_older'     : [1.307 1.144 2.979 1.144 6.614]\n",
      " 'aged_70_older'     : [0.617 0.526 1.783 0.526 3.915]\n",
      " 'gdp_per_capita'    : [116935.6    67293.484   1095.042  67293.484  16745.021]\n",
      " 'extreme_poverty'   : [b'' b'' b'71.4' b'' b'']\n",
      " 'cardiovasc_death_rate': [176.69  317.84  227.349 317.84  204.85 ]\n",
      " 'diabetes_prevalence': [16.52 17.26  3.94 17.26  6.47]\n",
      " 'female_smokers'    : [b'0.8' b'1.2' b'4.4' b'1.2' b'']\n",
      " 'male_smokers'      : [b'26.9' b'37.4' b'24.7' b'37.4' b'']\n",
      " 'handwashing_facilities': [0.    0.    8.704 0.    0.   ]\n",
      " 'hospital_beds_per_thousand': [1.2 1.2 1.3 1.2 0.8]\n",
      " 'life_expectancy'   : [80.23 77.97 64.26 77.97 72.06]\n",
      " 'human_development_index': [0.848 0.89  0.483 0.89  0.711]\n",
      " 'excess_mortality_cumulative_absolute': [b'' b'' b'' b'' b'']\n",
      " 'excess_mortality_cumulative': [b'' b'' b'' b'' b'']\n",
      " 'excess_mortality'  : [b'' b'' b'' b'' b'']\n",
      " 'excess_mortality_cumulative_per_million': [b'' b'' b'' b'' b'']\n"
     ]
    }
   ],
   "source": [
    "for features, target in csv_dataset.take(1):\n",
    "    print(\"'Target': {}\".format(target))\n",
    "    print(\"'Features:'\")\n",
    "    for k, v in features.items():\n",
    "        print(\" {!r:20s}: {}\".format(k, v))"
   ]
  },
  {
   "cell_type": "code",
   "execution_count": 8,
   "id": "2a93ef41",
   "metadata": {},
   "outputs": [
    {
     "name": "stderr",
     "output_type": "stream",
     "text": [
      "2022-06-07 17:03:21.877863: I tensorflow/core/kernels/data/shuffle_dataset_op.cc:390] Filling up shuffle buffer (this may take a while): 2381 of 10000\n",
      "2022-06-07 17:03:31.911482: I tensorflow/core/kernels/data/shuffle_dataset_op.cc:390] Filling up shuffle buffer (this may take a while): 2611 of 10000\n",
      "2022-06-07 17:03:41.903217: I tensorflow/core/kernels/data/shuffle_dataset_op.cc:390] Filling up shuffle buffer (this may take a while): 2881 of 10000\n",
      "2022-06-07 17:03:51.868753: I tensorflow/core/kernels/data/shuffle_dataset_op.cc:390] Filling up shuffle buffer (this may take a while): 3186 of 10000\n",
      "2022-06-07 17:04:01.904187: I tensorflow/core/kernels/data/shuffle_dataset_op.cc:390] Filling up shuffle buffer (this may take a while): 3481 of 10000\n",
      "2022-06-07 17:04:11.899397: I tensorflow/core/kernels/data/shuffle_dataset_op.cc:390] Filling up shuffle buffer (this may take a while): 3793 of 10000\n",
      "2022-06-07 17:04:21.904584: I tensorflow/core/kernels/data/shuffle_dataset_op.cc:390] Filling up shuffle buffer (this may take a while): 4097 of 10000\n",
      "2022-06-07 17:04:31.876311: I tensorflow/core/kernels/data/shuffle_dataset_op.cc:390] Filling up shuffle buffer (this may take a while): 4256 of 10000\n",
      "2022-06-07 17:04:41.895104: I tensorflow/core/kernels/data/shuffle_dataset_op.cc:390] Filling up shuffle buffer (this may take a while): 4512 of 10000\n",
      "2022-06-07 17:04:51.889616: I tensorflow/core/kernels/data/shuffle_dataset_op.cc:390] Filling up shuffle buffer (this may take a while): 4799 of 10000\n",
      "2022-06-07 17:05:01.879036: I tensorflow/core/kernels/data/shuffle_dataset_op.cc:390] Filling up shuffle buffer (this may take a while): 5062 of 10000\n",
      "2022-06-07 17:05:11.866154: I tensorflow/core/kernels/data/shuffle_dataset_op.cc:390] Filling up shuffle buffer (this may take a while): 5394 of 10000\n",
      "2022-06-07 17:05:21.912706: I tensorflow/core/kernels/data/shuffle_dataset_op.cc:390] Filling up shuffle buffer (this may take a while): 5726 of 10000\n",
      "2022-06-07 17:05:31.883161: I tensorflow/core/kernels/data/shuffle_dataset_op.cc:390] Filling up shuffle buffer (this may take a while): 5924 of 10000\n",
      "2022-06-07 17:05:41.871736: I tensorflow/core/kernels/data/shuffle_dataset_op.cc:390] Filling up shuffle buffer (this may take a while): 6167 of 10000\n",
      "2022-06-07 17:05:51.881866: I tensorflow/core/kernels/data/shuffle_dataset_op.cc:390] Filling up shuffle buffer (this may take a while): 6432 of 10000\n",
      "2022-06-07 17:06:01.866426: I tensorflow/core/kernels/data/shuffle_dataset_op.cc:390] Filling up shuffle buffer (this may take a while): 6711 of 10000\n",
      "2022-06-07 17:06:11.884235: I tensorflow/core/kernels/data/shuffle_dataset_op.cc:390] Filling up shuffle buffer (this may take a while): 7009 of 10000\n",
      "2022-06-07 17:06:21.912089: I tensorflow/core/kernels/data/shuffle_dataset_op.cc:390] Filling up shuffle buffer (this may take a while): 7208 of 10000\n",
      "2022-06-07 17:06:31.868122: I tensorflow/core/kernels/data/shuffle_dataset_op.cc:390] Filling up shuffle buffer (this may take a while): 7480 of 10000\n",
      "2022-06-07 17:06:41.909389: I tensorflow/core/kernels/data/shuffle_dataset_op.cc:390] Filling up shuffle buffer (this may take a while): 7824 of 10000\n",
      "2022-06-07 17:06:51.895960: I tensorflow/core/kernels/data/shuffle_dataset_op.cc:390] Filling up shuffle buffer (this may take a while): 8127 of 10000\n",
      "2022-06-07 17:07:01.877843: I tensorflow/core/kernels/data/shuffle_dataset_op.cc:390] Filling up shuffle buffer (this may take a while): 8324 of 10000\n",
      "2022-06-07 17:07:11.869765: I tensorflow/core/kernels/data/shuffle_dataset_op.cc:390] Filling up shuffle buffer (this may take a while): 8604 of 10000\n",
      "2022-06-07 17:07:21.893662: I tensorflow/core/kernels/data/shuffle_dataset_op.cc:390] Filling up shuffle buffer (this may take a while): 8868 of 10000\n",
      "2022-06-07 17:07:31.879408: I tensorflow/core/kernels/data/shuffle_dataset_op.cc:390] Filling up shuffle buffer (this may take a while): 9178 of 10000\n",
      "2022-06-07 17:07:41.869731: I tensorflow/core/kernels/data/shuffle_dataset_op.cc:390] Filling up shuffle buffer (this may take a while): 9526 of 10000\n",
      "2022-06-07 17:07:51.887381: I tensorflow/core/kernels/data/shuffle_dataset_op.cc:390] Filling up shuffle buffer (this may take a while): 9846 of 10000\n",
      "2022-06-07 17:07:55.424315: I tensorflow/core/kernels/data/shuffle_dataset_op.cc:415] Shuffle buffer filled.\n"
     ]
    }
   ],
   "source": [
    "features, label = next(iter(csv_dataset))"
   ]
  },
  {
   "cell_type": "code",
   "execution_count": 9,
   "id": "de794bda",
   "metadata": {},
   "outputs": [
    {
     "name": "stderr",
     "output_type": "stream",
     "text": [
      "2022-06-07 17:08:07.449903: I tensorflow/core/kernels/data/shuffle_dataset_op.cc:390] Filling up shuffle buffer (this may take a while): 1248 of 10000\n",
      "2022-06-07 17:08:17.434107: I tensorflow/core/kernels/data/shuffle_dataset_op.cc:390] Filling up shuffle buffer (this may take a while): 2256 of 10000\n",
      "2022-06-07 17:08:27.403900: I tensorflow/core/kernels/data/shuffle_dataset_op.cc:390] Filling up shuffle buffer (this may take a while): 2677 of 10000\n",
      "2022-06-07 17:08:37.411903: I tensorflow/core/kernels/data/shuffle_dataset_op.cc:390] Filling up shuffle buffer (this may take a while): 3001 of 10000\n",
      "2022-06-07 17:08:47.415547: I tensorflow/core/kernels/data/shuffle_dataset_op.cc:390] Filling up shuffle buffer (this may take a while): 3857 of 10000\n",
      "2022-06-07 17:08:57.418194: I tensorflow/core/kernels/data/shuffle_dataset_op.cc:390] Filling up shuffle buffer (this may take a while): 4131 of 10000\n",
      "2022-06-07 17:09:07.415148: I tensorflow/core/kernels/data/shuffle_dataset_op.cc:390] Filling up shuffle buffer (this may take a while): 4456 of 10000\n",
      "2022-06-07 17:09:17.452316: I tensorflow/core/kernels/data/shuffle_dataset_op.cc:390] Filling up shuffle buffer (this may take a while): 7528 of 10000\n",
      "2022-06-07 17:09:27.421668: I tensorflow/core/kernels/data/shuffle_dataset_op.cc:390] Filling up shuffle buffer (this may take a while): 7858 of 10000\n",
      "2022-06-07 17:09:37.432877: I tensorflow/core/kernels/data/shuffle_dataset_op.cc:390] Filling up shuffle buffer (this may take a while): 8394 of 10000\n",
      "2022-06-07 17:09:47.428341: I tensorflow/core/kernels/data/shuffle_dataset_op.cc:390] Filling up shuffle buffer (this may take a while): 8658 of 10000\n",
      "2022-06-07 17:09:57.421536: I tensorflow/core/kernels/data/shuffle_dataset_op.cc:390] Filling up shuffle buffer (this may take a while): 8909 of 10000\n",
      "2022-06-07 17:10:07.426513: I tensorflow/core/kernels/data/shuffle_dataset_op.cc:390] Filling up shuffle buffer (this may take a while): 9172 of 10000\n",
      "2022-06-07 17:10:17.417464: I tensorflow/core/kernels/data/shuffle_dataset_op.cc:390] Filling up shuffle buffer (this may take a while): 9530 of 10000\n",
      "2022-06-07 17:10:27.442008: I tensorflow/core/kernels/data/shuffle_dataset_op.cc:390] Filling up shuffle buffer (this may take a while): 9926 of 10000\n",
      "2022-06-07 17:10:28.436973: I tensorflow/core/kernels/data/shuffle_dataset_op.cc:415] Shuffle buffer filled.\n"
     ]
    }
   ],
   "source": [
    "features, label = next(iter(csv_dataset))"
   ]
  },
  {
   "cell_type": "code",
   "execution_count": 10,
   "id": "bf3073bf",
   "metadata": {},
   "outputs": [
    {
     "name": "stdout",
     "output_type": "stream",
     "text": [
      "OrderedDict([('iso_code', <tf.Tensor: shape=(5,), dtype=string, numpy=array([b'COL', b'OWID_OCE', b'PSE', b'AFG', b'JEY'], dtype=object)>), ('continent', <tf.Tensor: shape=(5,), dtype=string, numpy=array([b'South America', b'', b'Asia', b'Asia', b'Europe'], dtype=object)>), ('location', <tf.Tensor: shape=(5,), dtype=string, numpy=\n",
      "array([b'Colombia', b'Oceania', b'Palestine', b'Afghanistan', b'Jersey'],\n",
      "      dtype=object)>), ('date', <tf.Tensor: shape=(5,), dtype=string, numpy=\n",
      "array([b'2022-01-24', b'2020-07-22', b'2020-10-27', b'2020-06-18',\n",
      "       b'2021-03-26'], dtype=object)>), ('total_cases', <tf.Tensor: shape=(5,), dtype=float32, numpy=array([5761398.,   14998.,   51528.,   27423.,       0.], dtype=float32)>), ('new_cases', <tf.Tensor: shape=(5,), dtype=float32, numpy=array([21219.,   411.,   576.,   463.,     0.], dtype=float32)>), ('new_cases_smoothed', <tf.Tensor: shape=(5,), dtype=float32, numpy=\n",
      "array([27618.57 ,   359.857,   485.571,   635.286,     0.   ],\n",
      "      dtype=float32)>), ('total_deaths', <tf.Tensor: shape=(5,), dtype=float32, numpy=array([132477.,    155.,    458.,    550.,      0.], dtype=float32)>), ('new_deaths_smoothed', <tf.Tensor: shape=(5,), dtype=float32, numpy=array([192.429,   2.857,   5.286,  17.143,   0.   ], dtype=float32)>), ('total_cases_per_million', <tf.Tensor: shape=(5,), dtype=float32, numpy=\n",
      "array([112382.78 ,    347.016,   9866.055,    688.407,      0.   ],\n",
      "      dtype=float32)>), ('new_cases_per_million', <tf.Tensor: shape=(5,), dtype=float32, numpy=array([413.901,   9.509, 110.287,  11.623,   0.   ], dtype=float32)>), ('new_cases_smoothed_per_million', <tf.Tensor: shape=(5,), dtype=float32, numpy=array([538.732,   8.326,  92.972,  15.948,   0.   ], dtype=float32)>), ('total_deaths_per_million', <tf.Tensor: shape=(5,), dtype=float32, numpy=array([2584.118,    3.586,   87.693,   13.807,    0.   ], dtype=float32)>), ('new_deaths_per_million', <tf.Tensor: shape=(5,), dtype=float32, numpy=array([4.623, 0.116, 0.766, 1.054, 0.   ], dtype=float32)>), ('new_deaths_smoothed_per_million', <tf.Tensor: shape=(5,), dtype=float32, numpy=array([3.754, 0.066, 1.012, 0.43 , 0.   ], dtype=float32)>), ('reproduction_rate', <tf.Tensor: shape=(5,), dtype=float32, numpy=array([0.91, 0.  , 1.1 , 0.91, 0.  ], dtype=float32)>), ('icu_patients', <tf.Tensor: shape=(5,), dtype=string, numpy=array([b'', b'', b'', b'', b''], dtype=object)>), ('icu_patients_per_million', <tf.Tensor: shape=(5,), dtype=string, numpy=array([b'', b'', b'', b'', b''], dtype=object)>), ('hosp_patients', <tf.Tensor: shape=(5,), dtype=string, numpy=array([b'', b'', b'', b'', b''], dtype=object)>), ('hosp_patients_per_million', <tf.Tensor: shape=(5,), dtype=string, numpy=array([b'', b'', b'', b'', b''], dtype=object)>), ('weekly_icu_admissions', <tf.Tensor: shape=(5,), dtype=string, numpy=array([b'', b'', b'', b'', b''], dtype=object)>), ('weekly_icu_admissions_per_million', <tf.Tensor: shape=(5,), dtype=string, numpy=array([b'', b'', b'', b'', b''], dtype=object)>), ('weekly_hosp_admissions', <tf.Tensor: shape=(5,), dtype=string, numpy=array([b'', b'', b'', b'', b''], dtype=object)>), ('weekly_hosp_admissions_per_million', <tf.Tensor: shape=(5,), dtype=string, numpy=array([b'', b'', b'', b'', b''], dtype=object)>), ('total_tests', <tf.Tensor: shape=(5,), dtype=string, numpy=array([b'31676327.0', b'', b'', b'', b''], dtype=object)>), ('new_tests', <tf.Tensor: shape=(5,), dtype=string, numpy=array([b'87483.0', b'', b'4212.0', b'', b''], dtype=object)>), ('total_tests_per_thousand', <tf.Tensor: shape=(5,), dtype=string, numpy=array([b'617.884', b'', b'', b'', b''], dtype=object)>), ('new_tests_per_thousand', <tf.Tensor: shape=(5,), dtype=string, numpy=array([b'1.706', b'', b'0.806', b'', b''], dtype=object)>), ('new_tests_smoothed', <tf.Tensor: shape=(5,), dtype=string, numpy=array([b'80602.0', b'', b'3999.0', b'', b''], dtype=object)>), ('new_tests_smoothed_per_thousand', <tf.Tensor: shape=(5,), dtype=string, numpy=array([b'1.572', b'', b'0.766', b'', b''], dtype=object)>), ('positive_rate', <tf.Tensor: shape=(5,), dtype=string, numpy=array([b'0.416', b'', b'0.1214', b'', b''], dtype=object)>), ('tests_per_case', <tf.Tensor: shape=(5,), dtype=string, numpy=array([b'2.4', b'', b'8.2', b'', b''], dtype=object)>), ('tests_units', <tf.Tensor: shape=(5,), dtype=string, numpy=\n",
      "array([b'tests performed', b'', b'tests performed', b'', b''],\n",
      "      dtype=object)>), ('total_vaccinations', <tf.Tensor: shape=(5,), dtype=string, numpy=array([b'70350747.0', b'', b'', b'', b''], dtype=object)>), ('people_vaccinated', <tf.Tensor: shape=(5,), dtype=string, numpy=array([b'39862563.0', b'', b'', b'', b''], dtype=object)>), ('people_fully_vaccinated', <tf.Tensor: shape=(5,), dtype=string, numpy=array([b'30944953.0', b'', b'', b'', b''], dtype=object)>), ('total_boosters', <tf.Tensor: shape=(5,), dtype=string, numpy=array([b'5196394.0', b'', b'', b'', b''], dtype=object)>), ('new_vaccinations', <tf.Tensor: shape=(5,), dtype=string, numpy=array([b'245202.0', b'', b'', b'', b''], dtype=object)>), ('new_vaccinations_smoothed', <tf.Tensor: shape=(5,), dtype=string, numpy=array([b'250651.0', b'', b'', b'', b'966.0'], dtype=object)>), ('total_vaccinations_per_hundred', <tf.Tensor: shape=(5,), dtype=string, numpy=array([b'137.23', b'', b'', b'', b''], dtype=object)>), ('people_vaccinated_per_hundred', <tf.Tensor: shape=(5,), dtype=string, numpy=array([b'77.76', b'', b'', b'', b''], dtype=object)>), ('people_fully_vaccinated_per_hundred', <tf.Tensor: shape=(5,), dtype=string, numpy=array([b'60.36', b'', b'', b'', b''], dtype=object)>), ('total_boosters_per_hundred', <tf.Tensor: shape=(5,), dtype=string, numpy=array([b'10.14', b'', b'', b'', b''], dtype=object)>), ('new_vaccinations_smoothed_per_million', <tf.Tensor: shape=(5,), dtype=string, numpy=array([b'4889.0', b'', b'', b'', b'9557.0'], dtype=object)>), ('new_people_vaccinated_smoothed', <tf.Tensor: shape=(5,), dtype=string, numpy=array([b'58530.0', b'', b'', b'', b'243.0'], dtype=object)>), ('new_people_vaccinated_smoothed_per_hundred', <tf.Tensor: shape=(5,), dtype=string, numpy=array([b'0.114', b'', b'', b'', b'0.24'], dtype=object)>), ('stringency_index', <tf.Tensor: shape=(5,), dtype=float32, numpy=array([62.04,  0.  , 40.74, 78.7 ,  0.  ], dtype=float32)>), ('population', <tf.Tensor: shape=(5,), dtype=float32, numpy=\n",
      "array([51265840., 43219952.,  5222756., 39835428.,   101073.],\n",
      "      dtype=float32)>), ('population_density', <tf.Tensor: shape=(5,), dtype=float32, numpy=array([ 44.223,   0.   , 778.202,  54.422,   0.   ], dtype=float32)>), ('median_age', <tf.Tensor: shape=(5,), dtype=float32, numpy=array([32.2,  0. , 20.4, 18.6,  0. ], dtype=float32)>), ('aged_65_older', <tf.Tensor: shape=(5,), dtype=float32, numpy=array([7.646, 0.   , 3.043, 2.581, 0.   ], dtype=float32)>), ('aged_70_older', <tf.Tensor: shape=(5,), dtype=float32, numpy=array([4.312, 0.   , 1.726, 1.337, 0.   ], dtype=float32)>), ('gdp_per_capita', <tf.Tensor: shape=(5,), dtype=float32, numpy=\n",
      "array([13254.949,     0.   ,  4449.898,  1803.987,     0.   ],\n",
      "      dtype=float32)>), ('extreme_poverty', <tf.Tensor: shape=(5,), dtype=string, numpy=array([b'4.5', b'', b'1.0', b'', b''], dtype=object)>), ('cardiovasc_death_rate', <tf.Tensor: shape=(5,), dtype=float32, numpy=array([124.24 ,   0.   , 265.91 , 597.029,   0.   ], dtype=float32)>), ('diabetes_prevalence', <tf.Tensor: shape=(5,), dtype=float32, numpy=array([ 7.44,  0.  , 10.59,  9.59,  0.  ], dtype=float32)>), ('female_smokers', <tf.Tensor: shape=(5,), dtype=string, numpy=array([b'4.7', b'', b'', b'', b''], dtype=object)>), ('male_smokers', <tf.Tensor: shape=(5,), dtype=string, numpy=array([b'13.5', b'', b'', b'', b''], dtype=object)>), ('handwashing_facilities', <tf.Tensor: shape=(5,), dtype=float32, numpy=array([65.386,  0.   ,  0.   , 37.746,  0.   ], dtype=float32)>), ('hospital_beds_per_thousand', <tf.Tensor: shape=(5,), dtype=float32, numpy=array([1.71, 0.  , 0.  , 0.5 , 0.  ], dtype=float32)>), ('life_expectancy', <tf.Tensor: shape=(5,), dtype=float32, numpy=array([77.29,  0.  , 74.05, 64.83,  0.  ], dtype=float32)>), ('human_development_index', <tf.Tensor: shape=(5,), dtype=float32, numpy=array([0.767, 0.   , 0.708, 0.511, 0.   ], dtype=float32)>), ('excess_mortality_cumulative_absolute', <tf.Tensor: shape=(5,), dtype=string, numpy=array([b'', b'', b'', b'', b''], dtype=object)>), ('excess_mortality_cumulative', <tf.Tensor: shape=(5,), dtype=string, numpy=array([b'', b'', b'', b'', b''], dtype=object)>), ('excess_mortality', <tf.Tensor: shape=(5,), dtype=string, numpy=array([b'', b'', b'', b'', b''], dtype=object)>), ('excess_mortality_cumulative_per_million', <tf.Tensor: shape=(5,), dtype=string, numpy=array([b'', b'', b'', b'', b''], dtype=object)>)])\n",
      "tf.Tensor([237.   5.   4.  42.   0.], shape=(5,), dtype=float32)\n"
     ]
    }
   ],
   "source": [
    "print(features)\n",
    "print(label)"
   ]
  },
  {
   "cell_type": "code",
   "execution_count": null,
   "id": "4d3a2e0f",
   "metadata": {},
   "outputs": [],
   "source": []
  }
 ],
 "metadata": {
  "kernelspec": {
   "display_name": "Python 3 (ipykernel)",
   "language": "python",
   "name": "python3"
  },
  "language_info": {
   "codemirror_mode": {
    "name": "ipython",
    "version": 3
   },
   "file_extension": ".py",
   "mimetype": "text/x-python",
   "name": "python",
   "nbconvert_exporter": "python",
   "pygments_lexer": "ipython3",
   "version": "3.8.12"
  }
 },
 "nbformat": 4,
 "nbformat_minor": 5
}
