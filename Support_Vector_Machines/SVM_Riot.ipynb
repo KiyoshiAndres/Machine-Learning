{
 "cells": [
  {
   "cell_type": "markdown",
   "id": "cc0a6c78",
   "metadata": {},
   "source": [
    "Support vector machines are capable of performing non-linear classification, regression, and outliner detection. They are well-suited for complex small to medium sized data sets."
   ]
  },
  {
   "cell_type": "markdown",
   "id": "90c6db19",
   "metadata": {},
   "source": [
    "For this example we will be using Riot's API to create the data-set. Due to the request limitations on the API-key, we will be streaming the data."
   ]
  },
  {
   "cell_type": "code",
   "execution_count": 4,
   "id": "d7054226",
   "metadata": {},
   "outputs": [
    {
     "name": "stdout",
     "output_type": "stream",
     "text": [
      "[['JP1_355539882', 171, 17803, 2076, 5, 2, 37, 1], ['JP1_355558489', 127, 7305, 1213, 2, 3, 13, 0], ['JP1_355547802', 137, 16759, 1440, 6, 5, 14, 0], ['JP1_355546905', 158, 11603, 1508, 4, 5, 15, 0], ['JP1_355555629', 202, 27559, 2000, 6, 9, 13, 0], ['JP1_355555053', 55, 4084, 624, 0, 4, 3, 0], ['JP1_355534745', 137, 13023, 1477, 7, 4, 9, 0], ['JP1_355533820', 204, 18479, 1924, 5, 2, 20, 0], ['JP1_355540659', 166, 29060, 1981, 3, 10, 26, 1], ['JP1_355540147', 216, 11988, 1777, 2, 2, 15, 1], ['JP1_355519498', 32, 7269, 1996, 4, 5, 67, 1], ['JP1_355509246', 155, 6160, 1303, 2, 2, 13, 0], ['JP1_355528070', 127, 8860, 1434, 1, 5, 13, 1], ['JP1_355527543', 223, 16209, 1844, 1, 2, 28, 1], ['JP1_355473005', 187, 29747, 2371, 9, 7, 27, 0], ['JP1_355472062', 149, 15988, 1547, 1, 6, 16, 1], ['JP1_355480831', 210, 20830, 2462, 10, 4, 21, 1], ['JP1_355480140', 166, 9862, 1626, 5, 0, 15, 0], ['JP1_355459335', 223, 35239, 2222, 9, 10, 19, 0], ['JP1_355448651', 171, 11611, 1729, 3, 2, 18, 1], ['JP1_355447996', 135, 7427, 1563, 5, 0, 8, 0], ['JP1_355457177', 188, 23415, 1866, 8, 6, 16, 0], ['JP1_355466016', 152, 21047, 1902, 2, 4, 33, 0], ['JP1_355455259', 158, 33168, 2320, 9, 9, 36, 1], ['JP1_355454688', 179, 24380, 2383, 9, 5, 45, 0], ['JP1_355030470', 200, 14109, 1629, 1, 2, 27, 1], ['JP1_355019653', 187, 22565, 1831, 6, 8, 15, 0], ['JP1_354562322', 204, 22686, 2061, 3, 7, 33, 1], ['JP1_354222956', 31, 2884, 1542, 4, 2, 55, 1], ['JP1_354232480', 156, 14991, 1683, 1, 3, 24, 0], ['JP1_354241875', 134, 9809, 1316, 0, 3, 14, 1], ['JP1_354241548', 12, 4524, 1097, 5, 2, 13, 0], ['JP1_354231386', 134, 11600, 1242, 1, 5, 18, 1], ['JP1_354221036', 165, 12163, 1615, 4, 5, 19, 0], ['JP1_354056371', 203, 24841, 2497, 7, 6, 44, 1], ['JP1_354056071', 137, 10329, 1468, 0, 3, 12, 1], ['JP1_354055663', 23, 12103, 1649, 8, 4, 15, 0], ['JP1_353969515', 111, 6933, 1056, 2, 5, 18, 1], ['JP1_353978684', 207, 22680, 1975, 3, 5, 19, 1], ['JP1_353987312', 28, 10864, 2365, 4, 5, 31, 1]]\n"
     ]
    }
   ],
   "source": [
    "import requests\n",
    "import apiKey\n",
    "import numpy as np\n",
    "import matplotlib.pyplot as plt\n",
    "\n",
    "\n",
    "region1: str = \"jp1\"\n",
    "region2: str = \"asia\"\n",
    "summonerId: str = apiKey.Id\n",
    "apiKey = apiKey.Key\n",
    "\n",
    "class RankedMatches:\n",
    "    def __init__(self, region1: str, region2: str, summonerId: str, apiKey: str):\n",
    "        self.puuid = self.retrievePuuid(region1, summonerId, apiKey)\n",
    "        self.ListOfRankedMatches = self.retrieveListOfRankedMatches(region2, self.puuid, apiKey)\n",
    "        self.data = self.matchData(region2, self.ListOfRankedMatches, apiKey)\n",
    "\n",
    "\n",
    "    # Need puuid to retrieve match list for a summoner\n",
    "    def retrievePuuid(self, region: str, summonerId: str, apiKey: str) -> str:\n",
    "        ''''Retrieves puuid from Riot's API'''\n",
    "        summonerDataURL: str = \"https://\" + region + \".api.riotgames.com/lol/summoner/v4/summoners/by-name/\" + summonerId + \"?api_key=\" + apiKey\n",
    "        return requests.get(summonerDataURL).json()[\"puuid\"]\n",
    "\n",
    "    # Acceptable regions are asia, america, etc\n",
    "    def retrieveListOfRankedMatches(self, region: str, puuid: str, apiKey: str) -> list:\n",
    "        '''Retrieves list of ranked matches for a player'''\n",
    "        summonerMatchesURL: str = \"https://\" + region + \".api.riotgames.com/lol/match/v5/matches/by-puuid/\" + puuid + \"/ids?api_key=\" + apiKey\n",
    "        return requests.get(summonerMatchesURL, params= {\"type\": \"ranked\", \"count\": \"40\"}).json()\n",
    "\n",
    "\n",
    "    # Acceptable regions are asia, america, etc\n",
    "    def matchData(self, region: str, matches: list, apiKey: str) -> list:\n",
    "        '''Returns an array of match data, with n features and binary label'''\n",
    "        matchList = []\n",
    "        for match in matches:\n",
    "            matchDataURL: str = \"https://\" + region + \".api.riotgames.com/lol/match/v5/matches/\" + match + \"?api_key=\" + apiKey\n",
    "            matchData = requests.get(matchDataURL).json()\n",
    "            matchInfo = matchData[\"info\"]\n",
    "            participants = matchInfo[\"participants\"]\n",
    "            for participant in participants:\n",
    "                if participant[\"summonerName\"] == summonerId:\n",
    "                    # Besides win, other valid parameters are <kills, deaths, championName, damageDealtToObjectives,\n",
    "                    # dragonKills, timePlayed, totalDamageDealtToChampions, totalTimeCCDealt, visionScore, totalMinionsKilled>\n",
    "                    if participant[\"win\"]:\n",
    "                        matchList.append([match, participant[\"totalMinionsKilled\"], participant[\"totalDamageDealtToChampions\"], participant[\"timePlayed\"], participant[\"deaths\"], participant[\"kills\"], participant[\"visionScore\"], 1])\n",
    "                    else:\n",
    "                        matchList.append([match, participant[\"totalMinionsKilled\"], participant[\"totalDamageDealtToChampions\"], participant[\"timePlayed\"], participant[\"deaths\"], participant[\"kills\"], participant[\"visionScore\"], 0])\n",
    "        return matchList\n",
    "\n",
    "\n",
    "myMatchList = RankedMatches(region1, region2, summonerId, apiKey)\n",
    "print(myMatchList.data)\n"
   ]
  },
  {
   "cell_type": "code",
   "execution_count": null,
   "id": "6eb644cb",
   "metadata": {},
   "outputs": [],
   "source": []
  }
 ],
 "metadata": {
  "kernelspec": {
   "display_name": "Python 3 (ipykernel)",
   "language": "python",
   "name": "python3"
  },
  "language_info": {
   "codemirror_mode": {
    "name": "ipython",
    "version": 3
   },
   "file_extension": ".py",
   "mimetype": "text/x-python",
   "name": "python",
   "nbconvert_exporter": "python",
   "pygments_lexer": "ipython3",
   "version": "3.8.12"
  }
 },
 "nbformat": 4,
 "nbformat_minor": 5
}
