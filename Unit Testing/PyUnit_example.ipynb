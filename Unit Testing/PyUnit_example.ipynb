{
 "cells": [
  {
   "cell_type": "markdown",
   "id": "8b9ec6da",
   "metadata": {},
   "source": [
    "This the example found in https://machinelearningmastery.com/a-gentle-introduction-to-unit-testing-in-python/"
   ]
  },
  {
   "cell_type": "code",
   "execution_count": 12,
   "id": "418eed31",
   "metadata": {},
   "outputs": [],
   "source": [
    "import unittest"
   ]
  },
  {
   "cell_type": "markdown",
   "id": "45928147",
   "metadata": {},
   "source": [
    "This is the Rectangle class we will be using:"
   ]
  },
  {
   "cell_type": "code",
   "execution_count": 13,
   "id": "57c19571",
   "metadata": {},
   "outputs": [],
   "source": [
    "class Rectangle:\n",
    "    def __init__(self, width, height):\n",
    "        self.width = width\n",
    "        self.height = height\n",
    "\n",
    "    def get_area(self):\n",
    "        return self.width * self.height\n",
    "\n",
    "    def set_width(self, width):\n",
    "        self.width = width\n",
    "\n",
    "    def set_height(self, height):\n",
    "        self.height = height"
   ]
  },
  {
   "cell_type": "code",
   "execution_count": 17,
   "id": "104e416b",
   "metadata": {},
   "outputs": [],
   "source": [
    "class TestGetAreaRectangle(unittest.TestCase):\n",
    "    def runTest(self):\n",
    "        rectangle = Rectangle(2, 3)\n",
    "        self.assertEqual(rectangle.get_area(), 6, \"incorrect area\")"
   ]
  },
  {
   "cell_type": "markdown",
   "id": "661d0e13",
   "metadata": {},
   "source": [
    "Have to use a different line of code since I am using a jupyter notebook. Otherwise use:\n",
    "<br>\n",
    ">if __name__ == '__main__':\n",
    "<br>\n",
    "> &emsp; unittest.main()"
   ]
  },
  {
   "cell_type": "code",
   "execution_count": 20,
   "id": "92d4a822",
   "metadata": {},
   "outputs": [
    {
     "name": "stderr",
     "output_type": "stream",
     "text": [
      "runTest (__main__.TestGetAreaRectangle) ... ok\n",
      "\n",
      "----------------------------------------------------------------------\n",
      "Ran 1 test in 0.004s\n",
      "\n",
      "OK\n"
     ]
    },
    {
     "data": {
      "text/plain": [
       "<unittest.main.TestProgram at 0x1112b8d00>"
      ]
     },
     "execution_count": 20,
     "metadata": {},
     "output_type": "execute_result"
    }
   ],
   "source": [
    "unittest.main(argv=[''], verbosity=2, exit=False)"
   ]
  },
  {
   "cell_type": "code",
   "execution_count": 21,
   "id": "c7f74cd1",
   "metadata": {},
   "outputs": [],
   "source": [
    "class TestGetAreaRectangle(unittest.TestCase):\n",
    "    def test_normal_case(self):\n",
    "        rectangle = Rectangle(2, 3)\n",
    "        self.assertEqual(rectangle.get_area(), 6, \"incorrect area\")\n",
    "\n",
    "    def test_negative_case(self): \n",
    "        \"\"\"expect -1 as output to denote error when looking at negative area\"\"\"\n",
    "        rectangle = Rectangle(-1, 2)\n",
    "        self.assertEqual(rectangle.get_area(), -1, \"incorrect negative output\")"
   ]
  },
  {
   "cell_type": "code",
   "execution_count": 22,
   "id": "9560b3ae",
   "metadata": {},
   "outputs": [
    {
     "name": "stderr",
     "output_type": "stream",
     "text": [
      "test_negative_case (__main__.TestGetAreaRectangle)\n",
      "expect -1 as output to denote error when looking at negative area ... FAIL\n",
      "test_normal_case (__main__.TestGetAreaRectangle) ... ok\n",
      "\n",
      "======================================================================\n",
      "FAIL: test_negative_case (__main__.TestGetAreaRectangle)\n",
      "expect -1 as output to denote error when looking at negative area\n",
      "----------------------------------------------------------------------\n",
      "Traceback (most recent call last):\n",
      "  File \"/var/folders/qd/fg0y6gy96rz748mcq02s5pcc0000gn/T/ipykernel_87231/3023193657.py\", line 9, in test_negative_case\n",
      "    self.assertEqual(rectangle.get_area(), -1, \"incorrect negative output\")\n",
      "AssertionError: -2 != -1 : incorrect negative output\n",
      "\n",
      "----------------------------------------------------------------------\n",
      "Ran 2 tests in 0.006s\n",
      "\n",
      "FAILED (failures=1)\n"
     ]
    },
    {
     "data": {
      "text/plain": [
       "<unittest.main.TestProgram at 0x11123dc70>"
      ]
     },
     "execution_count": 22,
     "metadata": {},
     "output_type": "execute_result"
    }
   ],
   "source": [
    "unittest.main(argv=[''], verbosity=2, exit=False)"
   ]
  },
  {
   "cell_type": "code",
   "execution_count": null,
   "id": "fef4ff1e",
   "metadata": {},
   "outputs": [],
   "source": []
  }
 ],
 "metadata": {
  "kernelspec": {
   "display_name": "Python 3 (ipykernel)",
   "language": "python",
   "name": "python3"
  },
  "language_info": {
   "codemirror_mode": {
    "name": "ipython",
    "version": 3
   },
   "file_extension": ".py",
   "mimetype": "text/x-python",
   "name": "python",
   "nbconvert_exporter": "python",
   "pygments_lexer": "ipython3",
   "version": "3.8.12"
  }
 },
 "nbformat": 4,
 "nbformat_minor": 5
}
