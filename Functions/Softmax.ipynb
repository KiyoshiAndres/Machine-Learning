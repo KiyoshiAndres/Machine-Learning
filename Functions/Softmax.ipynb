{
 "cells": [
  {
   "cell_type": "markdown",
   "id": "3663df2f",
   "metadata": {},
   "source": [
    "For dimensions greater than $1$, the softmax is a generalization of the logistic function. It is a function\n",
    "$$\\sigma:\\mathbb{R}^K\\to (0,1)^K.$$\n",
    "Here $(0,1)^K$ represents the $K$-tuples with entries in the range from $0$ to $1$.\n",
    "<br>\n",
    "The $i$th entry is given by:\n",
    "$$\\sigma(\\mathbf{z})_i=\\frac{e^{z_i}}{\\sum^K_{j=1}e^{z_j}}.$$"
   ]
  },
  {
   "cell_type": "code",
   "execution_count": 16,
   "id": "949e8310",
   "metadata": {},
   "outputs": [],
   "source": [
    "import numpy as np\n",
    "import math"
   ]
  },
  {
   "cell_type": "code",
   "execution_count": 21,
   "id": "7358ed1a",
   "metadata": {},
   "outputs": [],
   "source": [
    "input_k_tuple = [3,2,1,5]\n",
    "output_k_tuple = []"
   ]
  },
  {
   "cell_type": "code",
   "execution_count": 22,
   "id": "e2e6cebd",
   "metadata": {},
   "outputs": [
    {
     "name": "stdout",
     "output_type": "stream",
     "text": [
      "[0.11245721367093255, 0.04137069692096015, 0.015219428864155927, 0.8309526605439513]\n"
     ]
    }
   ],
   "source": [
    "denominator = np.sum(np.exp(input_k_tuple))\n",
    "for i in range(len(input_k_tuple)):\n",
    "    output_k_tuple.append(math.exp(input_k_tuple[i]) / denominator)\n",
    "    \n",
    "print(output_k_tuple)"
   ]
  }
 ],
 "metadata": {
  "kernelspec": {
   "display_name": "Python 3 (ipykernel)",
   "language": "python",
   "name": "python3"
  },
  "language_info": {
   "codemirror_mode": {
    "name": "ipython",
    "version": 3
   },
   "file_extension": ".py",
   "mimetype": "text/x-python",
   "name": "python",
   "nbconvert_exporter": "python",
   "pygments_lexer": "ipython3",
   "version": "3.8.12"
  }
 },
 "nbformat": 4,
 "nbformat_minor": 5
}
