{
 "cells": [
  {
   "cell_type": "markdown",
   "id": "436f566f",
   "metadata": {},
   "source": [
    "Let $X$ be a set, and refer to it as the **instance space**. A **concept** over $X$ is a subset $c\\subseteq X$ of the instance space."
   ]
  },
  {
   "cell_type": "code",
   "execution_count": null,
   "id": "8644a9b5",
   "metadata": {},
   "outputs": [],
   "source": []
  }
 ],
 "metadata": {
  "kernelspec": {
   "display_name": "Python 3 (ipykernel)",
   "language": "python",
   "name": "python3"
  },
  "language_info": {
   "codemirror_mode": {
    "name": "ipython",
    "version": 3
   },
   "file_extension": ".py",
   "mimetype": "text/x-python",
   "name": "python",
   "nbconvert_exporter": "python",
   "pygments_lexer": "ipython3",
   "version": "3.8.12"
  }
 },
 "nbformat": 4,
 "nbformat_minor": 5
}
