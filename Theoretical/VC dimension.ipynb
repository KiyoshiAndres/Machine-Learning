{
 "cells": [
  {
   "cell_type": "markdown",
   "id": "382bc6b0",
   "metadata": {},
   "source": [
    "Let $A$ be a set, and let $C$ be a class of sets. The class $C$ $\\textbf{shatters}$ the set $A$, if for each subset $a\\subseteq A$ there exists some element $c\\in C$ such that $a= c\\cap A$.\n"
   ]
  },
  {
   "cell_type": "markdown",
   "id": "fdc7a1e9",
   "metadata": {},
   "source": [
    "As an example, consider $C$ to be the class of disks in $\\mathbb{R}^2$ and $A$ to be a set of $4$ points $(0,1)$, $(1,0)$, $(-1,0)$, $(0,-1)$. Consider first the subsets $a_i$ for $i=1,2,3,4$ of single points. Then we can enclose each of them in a circle with radius centered on the points, and radius smaller than the distance to another point. The problem arises when one wants to encircle two points on opposing sides, e.g. $(0,1)$ and $(0,-1)$. There is no circle that doesn't touch the other points."
   ]
  },
  {
   "cell_type": "markdown",
   "id": "941fbfdf",
   "metadata": {},
   "source": [
    "One can show that in general no set of four points can be shattered by $C$ in the previous example. "
   ]
  },
  {
   "cell_type": "markdown",
   "id": "e1022906",
   "metadata": {},
   "source": [
    "The VC $\\textbf{dimension}$ of $C$ is the largest cardinality of sets shattered by $C$."
   ]
  },
  {
   "cell_type": "markdown",
   "id": "0b18ce7b",
   "metadata": {},
   "source": [
    "Therefore in the previous example, the VC dimension of $C$ was $3$."
   ]
  },
  {
   "cell_type": "code",
   "execution_count": null,
   "id": "ab11fb49",
   "metadata": {},
   "outputs": [],
   "source": []
  }
 ],
 "metadata": {
  "kernelspec": {
   "display_name": "Python 3 (ipykernel)",
   "language": "python",
   "name": "python3"
  },
  "language_info": {
   "codemirror_mode": {
    "name": "ipython",
    "version": 3
   },
   "file_extension": ".py",
   "mimetype": "text/x-python",
   "name": "python",
   "nbconvert_exporter": "python",
   "pygments_lexer": "ipython3",
   "version": "3.8.12"
  }
 },
 "nbformat": 4,
 "nbformat_minor": 5
}
