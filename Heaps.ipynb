{
 "cells": [
  {
   "cell_type": "markdown",
   "id": "9290fbc4",
   "metadata": {},
   "source": [
    "A binary tree is a tree in which each node has at most two children. A nearly complete binary tree is a binary tree in which every level except possibly the last is complete. If the last level is incomplete, the elements are sorted to the left."
   ]
  },
  {
   "cell_type": "code",
   "execution_count": null,
   "id": "05dac8f7",
   "metadata": {},
   "outputs": [],
   "source": []
  }
 ],
 "metadata": {
  "kernelspec": {
   "display_name": "Python 3 (ipykernel)",
   "language": "python",
   "name": "python3"
  },
  "language_info": {
   "codemirror_mode": {
    "name": "ipython",
    "version": 3
   },
   "file_extension": ".py",
   "mimetype": "text/x-python",
   "name": "python",
   "nbconvert_exporter": "python",
   "pygments_lexer": "ipython3",
   "version": "3.8.12"
  }
 },
 "nbformat": 4,
 "nbformat_minor": 5
}
